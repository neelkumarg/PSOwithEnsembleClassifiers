{
 "cells": [
  {
   "cell_type": "code",
   "execution_count": 15,
   "id": "8d768bcd-6648-4abb-9b63-50aa37b78d29",
   "metadata": {},
   "outputs": [
    {
     "name": "stdout",
     "output_type": "stream",
     "text": [
      "Just RF and SVM...\n"
     ]
    },
    {
     "name": "stderr",
     "output_type": "stream",
     "text": [
      "100%|████████████████████████████████████████████████████████████████████████████████████████████████████████████████████████████████████████████████████████████████████████████████████████████████████████████████████████████████████████████████| 100/100 [00:06<00:00, 16.03it/s]\n"
     ]
    },
    {
     "name": "stdout",
     "output_type": "stream",
     "text": [
      "Just DT and KNN...\n"
     ]
    },
    {
     "name": "stderr",
     "output_type": "stream",
     "text": [
      "100%|████████████████████████████████████████████████████████████████████████████████████████████████████████████████████████████████████████████████████████████████████████████████████████████████████████████████████████████████████████████████| 100/100 [00:04<00:00, 24.83it/s]\n"
     ]
    },
    {
     "name": "stdout",
     "output_type": "stream",
     "text": [
      "PSO with wrapped RF and SVM...\n"
     ]
    },
    {
     "name": "stderr",
     "output_type": "stream",
     "text": [
      "100%|████████████████████████████████████████████████████████████████████████████████████████████████████████████████████████████████████████████████████████████████████████████████████████████████████████████████████████████████████████████████| 100/100 [39:07<00:00, 23.48s/it]\n"
     ]
    },
    {
     "name": "stdout",
     "output_type": "stream",
     "text": [
      "PSO with wrapped DT and KNN...\n"
     ]
    },
    {
     "name": "stderr",
     "output_type": "stream",
     "text": [
      "100%|████████████████████████████████████████████████████████████████████████████████████████████████████████████████████████████████████████████████████████████████████████████████████████████████████████████████████████████████████████████████| 100/100 [17:11<00:00, 10.31s/it]\n"
     ]
    },
    {
     "name": "stdout",
     "output_type": "stream",
     "text": [
      "Classifier\tAccuracy\tPrecision\tRecall\tF1 Score\n",
      "RF+SVM         \t93.56\t\t93.33\t\t100.00\t96.54\n",
      "RF             \t93.00\t\t94.48\t\t97.91\t96.16\n",
      "SVM            \t89.74\t\t89.74\t\t100.00\t94.59\n",
      "DT+KNN         \t98.05\t\t99.77\t\t98.06\t98.90\n",
      "DT             \t93.36\t\t96.48\t\t96.11\t96.27\n",
      "KNN            \t97.44\t\t97.22\t\t100.00\t98.59\n",
      "PSO+RF+SVM     \t93.82\t\t93.57\t\t100.00\t96.68\n",
      "PSO+RF         \t93.05\t\t94.49\t\t97.97\t96.19\n",
      "PSO+SVM        \t89.74\t\t89.74\t\t100.00\t94.59\n",
      "PSO+DT+KNN     \t98.38\t\t99.77\t\t98.43\t99.09\n",
      "PSO+DT         \t94.13\t\t96.62\t\t96.86\t96.70\n",
      "PSO+KNN        \t98.36\t\t98.22\t\t100.00\t99.10\n"
     ]
    }
   ],
   "source": [
    "import csv\n",
    "import numpy as np\n",
    "import os\n",
    "import pandas as pd\n",
    "import tqdm\n",
    "from pyswarms.single.global_best import GlobalBestPSO\n",
    "from sklearn.ensemble import RandomForestClassifier, VotingClassifier\n",
    "from sklearn.metrics import accuracy_score, precision_score, recall_score, f1_score\n",
    "from sklearn.neighbors import KNeighborsClassifier\n",
    "from sklearn.svm import SVC\n",
    "from sklearn.tree import DecisionTreeClassifier\n",
    "\n",
    "traindataset = pd.read_csv(\"datasetfiletrain.csv\", header=0, index_col=0)\n",
    "X_train = traindataset.iloc[:, :-1].values  # Features\n",
    "y_train = traindataset.iloc[:, -1].values   # Target\n",
    "\n",
    "testdataset = pd.read_csv(\"datasetfiletest.csv\", header=0, index_col=0)\n",
    "X_test = testdataset.iloc[:, :-1].values  # Features\n",
    "y_test = testdataset.iloc[:, -1].values   # Target\n",
    "\n",
    "num_features = X_train.shape[1]\n",
    "bounds = (np.zeros(num_features), np.ones(num_features))\n",
    "\n",
    "# fitness function for PSO algorithm\n",
    "def fitness_function(features, ensemble_classifier):\n",
    "    # Scale features to their weights\n",
    "    weighted_features = X_train * features\n",
    "\n",
    "    # Train a classifier (ensemble of RF and SVM) using the selected features\n",
    "    ensemble_classifier.fit(weighted_features, y_train)\n",
    "    \n",
    "    # Evaluate the classifier on the testing set\n",
    "    weighted_features_test = X_test * features\n",
    "    y_pred = ensemble_classifier.predict(weighted_features_test)\n",
    "    accuracy = accuracy_score(y_test, y_pred)\n",
    "\n",
    "    return accuracy\n",
    "\n",
    "# Perform feature selection using PSO algorithm\n",
    "def pso_feature_selection(en_classifier):\n",
    "\n",
    "    def objective_function(features):\n",
    "        accuracies = [fitness_function(features[i], en_classifier) for i in range(features.shape[0])]\n",
    "        return np.array(accuracies)\n",
    "\n",
    "    # Create a PSO optimizer\n",
    "    optimizer = GlobalBestPSO(n_particles=5, dimensions=num_features, options= {'c1': 1.25, 'c2': 1.25, 'w': 0.2}, bounds=bounds)\n",
    "\n",
    "    # Perform optimization\n",
    "    _, best_feature_weights = optimizer.optimize(objective_function, iters=100, verbose=False)\n",
    "    \n",
    "    return best_feature_weights\n",
    "\n",
    "def experiments(en_classifier, num_iter, use_pso):\n",
    "\n",
    "  results = np.zeros([3,4])\n",
    "\n",
    "  # Stores the avg weights decided by PSO\n",
    "  y = np.zeros([1, num_features], dtype=float)\n",
    "  \n",
    "  # Repeat the experiments for iter times\n",
    "  for i in tqdm.tqdm(range(num_iter)):\n",
    "    features_train = X_train\n",
    "    features_test = X_test\n",
    "    \n",
    "    if use_pso:\n",
    "        # Perform feature selection using PSO\n",
    "        features_weights = pso_feature_selection(en_classifier)\n",
    "        features_train = X_train * features_weights\n",
    "        features_test = X_test * features_weights\n",
    "        y += features_weights\n",
    "\n",
    "    # Train the final ensemble classifier using the selected features\n",
    "    en_classifier.fit(features_train, y_train)\n",
    "\n",
    "    # Evaluate the final ensemble classifier on the testing set\n",
    "    y_pred = en_classifier.predict(features_test)\n",
    "    \n",
    "    #Store the ensemble classifier's results\n",
    "    results[0,0] += (accuracy_score(y_test, y_pred) * 100/num_iter)\n",
    "    results[0,1] += (precision_score(y_test, y_pred) * 100/num_iter)\n",
    "    results[0,2] += (recall_score(y_test,y_pred) * 100/num_iter)\n",
    "    results[0,3] += (f1_score(y_test, y_pred) * 100/num_iter)\n",
    "    #print(f\"en {results[0,0]:.2f} {y_pred}\")\n",
    "\n",
    "    # Evaluate the individual classifiers\n",
    "    idx = 1\n",
    "    for clf in en_classifier.estimators_:\n",
    "        iy_pred = clf.predict(features_test)\n",
    "\n",
    "        results[idx,0] += (accuracy_score(y_test, iy_pred) * 100/num_iter)\n",
    "        results[idx,1] += (precision_score(y_test, iy_pred) * 100/num_iter)\n",
    "        results[idx,2] += (recall_score(y_test,iy_pred) * 100/num_iter)\n",
    "        results[idx,3] += (f1_score(y_test, iy_pred) * 100/num_iter)\n",
    "        #print(f\"{idx} {results[idx,0]:.2f} {iy_pred}\")\n",
    "        idx += 1\n",
    "  \n",
    "  # scale down the weights by the # of iterations to get the average\n",
    "  if use_pso:\n",
    "    y = y / num_iter\n",
    "\n",
    "  return results, y\n",
    "\n",
    "\n",
    "def print_results_from_file(filepath):\n",
    "  with open(filepath,\"r\") as resultsfile:\n",
    "    resultscsv = csv.reader(resultsfile)\n",
    "    next(resultscsv)\n",
    "    print(f\"Classifier\\tAccuracy\\tPrecision\\tRecall\\tF1 Score\")\n",
    "    for result in resultscsv:\n",
    "        print(f\"{result[0]:15}\\t{float(result[1]):.2f}\\t\\t{float(result[2]):.2f}\\t\\t{float(result[3]):.2f}\\t{float(result[4]):.2f}\")\n",
    "\n",
    "\n",
    "def store_results(names, results, filepath):\n",
    "  idx = 0\n",
    "  with open(filepath, \"a\", newline='') as resultsfile:\n",
    "    resultscsv = csv.writer(resultsfile)\n",
    "    for result in results:\n",
    "        resultscsv.writerow([names[idx]] + result.tolist())\n",
    "        idx += 1\n",
    "\n",
    "def store_weights(classifier_name, weights, filepath):\n",
    "  with open(filepath, \"a\", newline='') as resultsfile:\n",
    "    resultscsv = csv.writer(resultsfile)\n",
    "    resultscsv.writerow([classifier_name]+weights[0].tolist())\n",
    "\n",
    "rf_classifier = RandomForestClassifier(min_samples_leaf=4, n_estimators= 30, max_features= 'sqrt')\n",
    "svm_classifier = SVC(C=100, gamma = 0.001, probability=True)\n",
    "dt_classifier = DecisionTreeClassifier(criterion= 'gini', max_depth=5, min_samples_split=5)\n",
    "knn_classifier = KNeighborsClassifier(n_neighbors=4, p=1, weights='distance')\n",
    "num_iter = 100\n",
    "resultsfilepath = \"experimentresults.csv\"\n",
    "weightsfilepath = \"weights.csv\"\n",
    "\n",
    "with open(resultsfilepath, \"w\", newline='') as resultsfile:\n",
    "  resultscsv = csv.writer(resultsfile)\n",
    "  resultscsv.writerow([\"Classifier name\", \"Accuracy\", \"Precision\", \"Recall\", \"F1-Score\"])\n",
    "\n",
    "try:\n",
    "    os.remove(weightsfilepath)\n",
    "except:\n",
    "    pass\n",
    "\n",
    "print(\"Just RF and SVM...\")\n",
    "results, _ = experiments(VotingClassifier(estimators=[('rf', rf_classifier), ('svm', svm_classifier)], voting='soft', weights=[5,4]), num_iter, False)\n",
    "store_results([\"RF+SVM\",\"RF\",\"SVM\"], results, resultsfilepath)\n",
    "\n",
    "print(\"Just DT and KNN...\")\n",
    "results, _ = experiments(VotingClassifier(estimators=[('dt', dt_classifier), ('knn', knn_classifier)], voting='soft', weights=[4,5]), num_iter, False)\n",
    "store_results([\"DT+KNN\",\"DT\",\"KNN\"], results, resultsfilepath)\n",
    "\n",
    "print(\"PSO with wrapped RF and SVM...\")\n",
    "results, avg_wts = experiments(VotingClassifier(estimators=[('rf', rf_classifier), ('svm', svm_classifier)], voting='soft', weights=[5,4]), num_iter, True)\n",
    "store_results([\"PSO+RF+SVM\",\"PSO+RF\",\"PSO+SVM\"], results, resultsfilepath)\n",
    "store_weights(\"RF+SVM\", avg_wts, weightsfilepath)\n",
    "\n",
    "print(\"PSO with wrapped DT and KNN...\")\n",
    "results, avg_wts = experiments(VotingClassifier(estimators=[('dt', dt_classifier), ('knn', knn_classifier)], voting='soft', weights=[4,5]), num_iter, True)\n",
    "store_results([\"PSO+DT+KNN\",\"PSO+DT\",\"PSO+KNN\"], results, resultsfilepath)\n",
    "store_weights(\"DT+KNN\", avg_wts, weightsfilepath)\n",
    "\n",
    "print_results_from_file(resultsfilepath)"
   ]
  },
  {
   "cell_type": "code",
   "execution_count": 12,
   "id": "24303c4e-2051-4d16-920d-de8c77f6dde3",
   "metadata": {
    "tags": []
   },
   "outputs": [
    {
     "data": {
      "image/png": "[encoded data removed]",
      "text/plain": [
       "<Figure size 640x480 with 1 Axes>"
      ]
     },
     "metadata": {},
     "output_type": "display_data"
    }
   ],
   "source": [
    "import csv\n",
    "import matplotlib.pyplot as plt\n",
    "import numpy as np\n",
    "import pandas as pd\n",
    "\n",
    "# Plot weights calculated by PSO\n",
    "weights = pd.read_csv(\"weights.csv\", header=None)\n",
    "x = np.arange(1,weights.shape[1])\n",
    "\n",
    "est1wts = weights.iloc[0, 1:].values\n",
    "est1hdr = weights.iloc[0,0]\n",
    "est2wts = weights.iloc[1, 1:].values\n",
    "est2hdr = weights.iloc[1,0]\n",
    "\n",
    "plt.scatter(x, est1wts, color= \"green\", marker= \".\", s=5, label = est1hdr)\n",
    "plt.scatter(x, est2wts, color= \"red\", marker= \".\", s=5, label = est2hdr)\n",
    "plt.title(\"Feature fitness values calculated by PSO\")\n",
    "plt.xlabel(\"Feature number\")\n",
    "plt.ylabel(\"Average fitness value\")\n",
    "plt.legend(loc='center left', bbox_to_anchor=(1, 0.5))\n",
    "plt.savefig(\"combinedweightsgraph1.png\", dpi=400, bbox_inches='tight')\n",
    "plt.show()"
   ]
  },
  {
   "cell_type": "code",
   "execution_count": null,
   "id": "d65ec727-19be-41c9-bffb-150b5e12cb25",
   "metadata": {},
   "outputs": [],
   "source": []
  }
 ],
 "metadata": {
  "kernelspec": {
   "display_name": "Python 3 (ipykernel)",
   "language": "python",
   "name": "python3"
  },
  "language_info": {
   "codemirror_mode": {
    "name": "ipython",
    "version": 3
   },
   "file_extension": ".py",
   "mimetype": "text/x-python",
   "name": "python",
   "nbconvert_exporter": "python",
   "pygments_lexer": "ipython3",
   "version": "3.10.2"
  }
 },
 "nbformat": 4,
 "nbformat_minor": 5
}
